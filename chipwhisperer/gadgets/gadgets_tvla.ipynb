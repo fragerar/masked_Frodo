{
 "cells": [
  {
   "cell_type": "code",
   "execution_count": null,
   "id": "b0b76c59-bccb-45cc-8bb5-d53594d8b2bb",
   "metadata": {},
   "outputs": [],
   "source": [
    "SCOPETYPE = 'OPENADC'\n",
    "PLATFORM = 'CWLITEARM'\n",
    "CRYPTO_TARGET='NONE' \n",
    "SS_VER='SS_VER_1_1'"
   ]
  },
  {
   "cell_type": "code",
   "execution_count": null,
   "id": "187ceef6-921e-4d8e-bee6-5bad3511b428",
   "metadata": {
    "scrolled": true
   },
   "outputs": [],
   "source": [
    "# Adapt this to your ChipWhisperer installation\n",
    "%run \"../../Setup_Scripts/Setup_Generic.ipynb\""
   ]
  },
  {
   "cell_type": "code",
   "execution_count": null,
   "id": "b5fe534b-5029-4027-bf7f-8bcdb844f434",
   "metadata": {},
   "outputs": [],
   "source": [
    "GADGET = \"ZERO\"  # possible values are [\"AB\", \"BA\", \"AND\", \"ADD\", \"ZERO\"]\n",
    "ARCH = 'naive_asm' # possible values are [\"c\", \"asm\", \"naive_asm\"]\n",
    "\n",
    "if ARCH == 'asm':\n",
    "    samples = {\"AB\": 1200, \"BA\": 600, \"AND\": 600, \"ADD\": 1100, \"ZERO\": 1200}\n",
    "elif ARCH == 'naive_asm':\n",
    "    samples = {\"AB\": 600, \"BA\": 300, \"AND\": 300, \"ADD\": 700, \"ZERO\": 600}\n",
    "elif ARCH == 'c':\n",
    "    samples = {\"AB\": 500, \"BA\": 200, \"AND\": 300, \"ADD\": 500, \"ZERO\": 500}\n",
    "\n",
    "randomness = {\"AB\":2, \"BA\": 2, \"AND\": 2, \"ADD\": 6, \"ZERO\": 18}\n",
    "RAND = randomness[GADGET]\n",
    "scope.adc.samples = samples[GADGET]"
   ]
  },
  {
   "cell_type": "code",
   "execution_count": null,
   "id": "a874db04-98f1-48a2-bf89-abac3b9e1868",
   "metadata": {
    "scrolled": true
   },
   "outputs": [],
   "source": [
    "%%bash -s \"$PLATFORM\" \"$CRYPTO_TARGET\" \"$SS_VER\" \"$GADGET\" \"$ARCH\" \"$RAND\"\n",
    "cd target\n",
    "make clean PLATFORM=$1 CRYPTO_TARGET=$2 SS_VER=$3 -j\n",
    "make PLATFORM=$1 CRYPTO_TARGET=$2 SS_VER=$3 GADGET=$4 ARCH=$5 RAND=$6 -j"
   ]
  },
  {
   "cell_type": "code",
   "execution_count": null,
   "id": "535f0822-b422-4c06-9f6e-5d47450bdde8",
   "metadata": {
    "scrolled": true
   },
   "outputs": [],
   "source": [
    "cw.program_target(scope, prog, \"target/frodokem-{}.hex\".format(PLATFORM))"
   ]
  },
  {
   "cell_type": "code",
   "execution_count": null,
   "id": "7345dc46-0322-46bf-9402-f9939902f01f",
   "metadata": {
    "scrolled": true
   },
   "outputs": [],
   "source": [
    "VERBOSE = False\n",
    "nb_traces = 5000\n",
    "traces_1, traces_2, x = get_traces(nb_traces)"
   ]
  },
  {
   "cell_type": "code",
   "execution_count": null,
   "id": "00063f9f-17a3-4161-956f-bb7ebc7b732e",
   "metadata": {
    "scrolled": true
   },
   "outputs": [],
   "source": [
    "%matplotlib ipympl\n",
    "from scipy.stats import ttest_ind\n",
    "import matplotlib.pyplot as plt\n",
    "from scipy.stats import norm\n",
    "\n",
    "alpha = 10**(-5) # error rate\n",
    "sigma = 1 - (1 - alpha)**(1/samples[GADGET])\n",
    "th = norm.ppf(1 - sigma/2) # we adapt the threshold depending on number of samples\n",
    "\n",
    "t_val = ttest_ind(traces_1, traces_2, axis=0, equal_var=False)[0]\n",
    "plt.close()\n",
    "plt.plot(t_val[0:], linewidth=0.5)\n",
    "plt.plot([th]*scope.adc.samples, color = 'r')\n",
    "plt.plot([-th]*scope.adc.samples, color='r')\n",
    "plt.show()"
   ]
  },
  {
   "cell_type": "code",
   "execution_count": null,
   "id": "27238942-27cb-4afd-a303-ee39eea37af5",
   "metadata": {},
   "outputs": [],
   "source": [
    "from random import randint\n",
    "from tqdm.notebook import trange\n",
    "from secrets import randbits\n",
    "\n",
    "N_SHARES=2\n",
    "\n",
    "def get_traces(N):\n",
    "    traces_1 = []\n",
    "    traces_2 = []\n",
    "    x = []\n",
    "    FIXED = 42\n",
    "    \n",
    "    for i in trange(N, desc='Capturing traces'):\n",
    "        scope.arm()\n",
    "\n",
    "        mask = randbits(16)\n",
    "\n",
    "        if GADGET == \"AB\":\n",
    "            x0 = (FIXED + mask)%2**16\n",
    "            x1 = (- mask) % 2**16\n",
    "        elif GADGET in [\"BA\", \"AND\", \"ADD\", \"ZERO\"]:\n",
    "            x0 = FIXED ^ mask\n",
    "            x1 = mask\n",
    "\n",
    "        fixed_text = bytearray([x0>>8, x0%256, x1>>8, x1%256])\n",
    "\n",
    "        if GADGET in [\"AND\", \"ADD\"]:\n",
    "            mask = randbits(16)\n",
    "            y0 = FIXED ^ mask\n",
    "            y1 = mask\n",
    "            fixed_text.extend([y0>>8, y0%256, y1>>8, y1%256])\n",
    "\n",
    "        randomness = bytearray([randbits(8), randbits(8)])\n",
    "        if GADGET == \"ADD\":\n",
    "            randomness.extend([randbits(8) for _ in range(4)])\n",
    "        elif GADGET == \"ZERO\":\n",
    "            randomness.extend([randbits(8) for _ in range(16)])\n",
    "        fixed_text.extend(randomness)\n",
    "        \n",
    "        if randbits(1):\n",
    "            if GADGET == \"ADD\":\n",
    "                val = (x0^x1) + (y0^y1)\n",
    "            elif GADGET == \"AND\":\n",
    "                val = (x0^x1) & (y0^y1)\n",
    "            elif GADGET == \"ZERO\":\n",
    "                val = (FIXED == 0)*1\n",
    "            else:\n",
    "                val = FIXED\n",
    "\n",
    "            target.simpleserial_write('p', fixed_text)\n",
    "             \n",
    "            ret = scope.capture()\n",
    "            t = scope.adc.trig_count\n",
    "            if ret:\n",
    "                print(\"Target timed out!\")\n",
    "            response = target.simpleserial_read('r', N_SHARES)\n",
    "            traces_1.append(scope.get_last_trace())\n",
    "        else:\n",
    "            text = bytearray([randbits(8) for _ in range(len(fixed_text))])\n",
    "            if GADGET == \"AB\":\n",
    "                val = ((text[0] << 8 | text[1]) + (text[2] << 8 | text[3]))%2**16\n",
    "            elif GADGET in [\"BA\", \"AND\", \"ADD\", \"ZERO\"]:\n",
    "                val = ((text[0] << 8 | text[1]) ^ (text[2] << 8 | text[3]))\n",
    "            if GADGET == \"AND\":\n",
    "                val = val & ((text[4] << 8 | text[5]) ^ (text[6] << 8 | text[7]))\n",
    "            elif GADGET == \"ADD\":\n",
    "                val = (val + ((text[4] << 8 | text[5]) ^ (text[6] << 8 | text[7])))%2**16\n",
    "            elif GADGET == \"ZERO\":\n",
    "                val = (val == 0)*1\n",
    "    \n",
    "            target.simpleserial_write('p', text)\n",
    "            ret = scope.capture()\n",
    "            if ret:\n",
    "                print(\"Target timed out!\")\n",
    "            response = target.simpleserial_read('r', N_SHARES)\n",
    "            traces_2.append(scope.get_last_trace())\n",
    "\n",
    "        if VERBOSE:\n",
    "            print(val == (int(response[0])<<8) + int(response[1]))\n",
    "            \n",
    "    size = min(len(traces_1), len(traces_2))\n",
    "    \n",
    "    print(\"Trigger up for\", t, \"ADC cycles\")\n",
    "    return (traces_1[:size], traces_2[:size], x)"
   ]
  },
  {
   "cell_type": "code",
   "execution_count": null,
   "id": "574633ec-c25c-44f1-9e31-d419de5cdd40",
   "metadata": {},
   "outputs": [],
   "source": [
    "%matplotlib ipympl\n",
    "import matplotlib.pyplot as plt\n",
    "\n",
    "plt.close()\n",
    "for t in traces_1[:10]:\n",
    "    plt.plot(t[:], linewidth=0.5)\n",
    "plt.show()"
   ]
  },
  {
   "cell_type": "code",
   "execution_count": null,
   "id": "82993292",
   "metadata": {},
   "outputs": [],
   "source": [
    "import numpy as np\n",
    "np.save(\"t-test-{}-{}-{}.npy\".format(str(nb_traces), GADGET, ARCH), t_val)"
   ]
  },
  {
   "cell_type": "code",
   "execution_count": null,
   "id": "08a487c6-e9c0-4ec6-bb0f-8ca45c187bff",
   "metadata": {},
   "outputs": [],
   "source": [
    "target.dis()\n",
    "scope.dis()"
   ]
  }
 ],
 "metadata": {
  "kernelspec": {
   "display_name": "Python 3",
   "language": "python",
   "name": "python3"
  },
  "language_info": {
   "codemirror_mode": {
    "name": "ipython",
    "version": 3
   },
   "file_extension": ".py",
   "mimetype": "text/x-python",
   "name": "python",
   "nbconvert_exporter": "python",
   "pygments_lexer": "ipython3",
   "version": "3.11.9"
  }
 },
 "nbformat": 4,
 "nbformat_minor": 5
}
